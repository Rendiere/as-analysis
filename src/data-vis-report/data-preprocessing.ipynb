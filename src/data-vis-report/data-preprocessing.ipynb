{
 "cells": [
  {
   "cell_type": "markdown",
   "metadata": {},
   "source": [
    "# Data pre-processing and augmentation\n",
    "\n",
    "In this notebook, the different data pre processing and augmentation processes are outlined.\n",
    "\n",
    "All this functionality can be found in `data_utils.py`"
   ]
  },
  {
   "cell_type": "markdown",
   "metadata": {},
   "source": [
    "## Calculate the normlized patient timeline\n",
    "\n",
    "* Normalize each patient's timeline to be 0 at the time they joined the study. \n",
    "\n",
    "* Save to `data/bs_normed_full.xls`\n",
    "\n",
    "* Bin data per year for each patient\n",
    "\n",
    "* Save to `data/bs_normed_binned.xls`\n",
    "\n"
   ]
  },
  {
   "cell_type": "code",
   "execution_count": 3,
   "metadata": {
    "collapsed": true
   },
   "outputs": [],
   "source": [
    "import pandas as pd\n",
    "\n",
    "basmi_df = pd.read_excel('../data/clean_basmi.xls', index_col=(0,1))\n",
    "\n",
    "# Turn the Drug column into binary\n",
    "basmi_df['Drug_Indicator'] = basmi_df['Drug'].notnull().map({False: 0, True: 1})\n",
    "basmi_df.drop('Drug',axis=1, inplace=True)\n"
   ]
  },
  {
   "cell_type": "markdown",
   "metadata": {},
   "source": [
    "### 2. Bin data per year for each patient\n",
    "If patient has multiple measurements within a year, take the mean of those measurements.\n",
    "\n",
    "Now each patient should have one score per year in study."
   ]
  },
  {
   "cell_type": "code",
   "execution_count": 4,
   "metadata": {},
   "outputs": [
    {
     "data": {
      "text/html": [
       "<div>\n",
       "<style>\n",
       "    .dataframe thead tr:only-child th {\n",
       "        text-align: right;\n",
       "    }\n",
       "\n",
       "    .dataframe thead th {\n",
       "        text-align: left;\n",
       "    }\n",
       "\n",
       "    .dataframe tbody tr th {\n",
       "        vertical-align: top;\n",
       "    }\n",
       "</style>\n",
       "<table border=\"1\" class=\"dataframe\">\n",
       "  <thead>\n",
       "    <tr style=\"text-align: right;\">\n",
       "      <th></th>\n",
       "      <th>norm_years</th>\n",
       "      <th>BS</th>\n",
       "    </tr>\n",
       "    <tr>\n",
       "      <th>patient_id</th>\n",
       "      <th></th>\n",
       "      <th></th>\n",
       "    </tr>\n",
       "  </thead>\n",
       "  <tbody>\n",
       "    <tr>\n",
       "      <th>40</th>\n",
       "      <td>0.0</td>\n",
       "      <td>2.96</td>\n",
       "    </tr>\n",
       "    <tr>\n",
       "      <th>40</th>\n",
       "      <td>1.0</td>\n",
       "      <td>3.00</td>\n",
       "    </tr>\n",
       "    <tr>\n",
       "      <th>40</th>\n",
       "      <td>2.0</td>\n",
       "      <td>3.20</td>\n",
       "    </tr>\n",
       "    <tr>\n",
       "      <th>40</th>\n",
       "      <td>3.0</td>\n",
       "      <td>3.10</td>\n",
       "    </tr>\n",
       "    <tr>\n",
       "      <th>40</th>\n",
       "      <td>4.0</td>\n",
       "      <td>3.40</td>\n",
       "    </tr>\n",
       "  </tbody>\n",
       "</table>\n",
       "</div>"
      ],
      "text/plain": [
       "            norm_years    BS\n",
       "patient_id                  \n",
       "40                 0.0  2.96\n",
       "40                 1.0  3.00\n",
       "40                 2.0  3.20\n",
       "40                 3.0  3.10\n",
       "40                 4.0  3.40"
      ]
     },
     "execution_count": 4,
     "metadata": {},
     "output_type": "execute_result"
    }
   ],
   "source": [
    "def get_norm_years(df):\n",
    "    dates = df.index.get_level_values('Date')\n",
    "    start_date = min(dates)\n",
    "    norm_years = [int(pd.Timedelta(date - start_date).days / 365) for date in dates]\n",
    "    return norm_years\n",
    "\n",
    "# Get the normalized patient timeline\n",
    "# Keep only BS score\n",
    "basmi_df['norm_years'] = basmi_df.groupby(level=0)['BS'].transform(get_norm_years)\n",
    "\n",
    "# Bin data per year for each patient\n",
    "agg_bs_df = basmi_df.groupby(['patient_id','norm_years']).agg({'BS': 'mean'}).reset_index(level=1)\n",
    "# Round floats to 2 digits\n",
    "agg_bs_df = agg_bs_df.round(2)\n",
    "\n",
    "agg_bs_df.head()"
   ]
  },
  {
   "cell_type": "markdown",
   "metadata": {},
   "source": [
    "#### Impute the missing values\n",
    "If a patient missed a year, impute the missing value by assuming a linear progression\n",
    "\n",
    "To get the progression rate, use the difference between BS scores before and after missing values and divide by the time difference."
   ]
  },
  {
   "cell_type": "code",
   "execution_count": 5,
   "metadata": {},
   "outputs": [
    {
     "data": {
      "text/html": [
       "<div>\n",
       "<style>\n",
       "    .dataframe thead tr:only-child th {\n",
       "        text-align: right;\n",
       "    }\n",
       "\n",
       "    .dataframe thead th {\n",
       "        text-align: left;\n",
       "    }\n",
       "\n",
       "    .dataframe tbody tr th {\n",
       "        vertical-align: top;\n",
       "    }\n",
       "</style>\n",
       "<table border=\"1\" class=\"dataframe\">\n",
       "  <thead>\n",
       "    <tr style=\"text-align: right;\">\n",
       "      <th></th>\n",
       "      <th>BS</th>\n",
       "      <th>norm_years</th>\n",
       "    </tr>\n",
       "    <tr>\n",
       "      <th>patient_id</th>\n",
       "      <th></th>\n",
       "      <th></th>\n",
       "    </tr>\n",
       "  </thead>\n",
       "  <tbody>\n",
       "    <tr>\n",
       "      <th>40</th>\n",
       "      <td>2.96</td>\n",
       "      <td>0.0</td>\n",
       "    </tr>\n",
       "    <tr>\n",
       "      <th>40</th>\n",
       "      <td>3.00</td>\n",
       "      <td>1.0</td>\n",
       "    </tr>\n",
       "    <tr>\n",
       "      <th>40</th>\n",
       "      <td>3.20</td>\n",
       "      <td>2.0</td>\n",
       "    </tr>\n",
       "    <tr>\n",
       "      <th>40</th>\n",
       "      <td>3.10</td>\n",
       "      <td>3.0</td>\n",
       "    </tr>\n",
       "    <tr>\n",
       "      <th>40</th>\n",
       "      <td>3.40</td>\n",
       "      <td>4.0</td>\n",
       "    </tr>\n",
       "  </tbody>\n",
       "</table>\n",
       "</div>"
      ],
      "text/plain": [
       "              BS  norm_years\n",
       "patient_id                  \n",
       "40          2.96         0.0\n",
       "40          3.00         1.0\n",
       "40          3.20         2.0\n",
       "40          3.10         3.0\n",
       "40          3.40         4.0"
      ]
     },
     "execution_count": 5,
     "metadata": {},
     "output_type": "execute_result"
    }
   ],
   "source": [
    "# Impute missing values\n",
    "fixed_dfs = []\n",
    "for id, df in agg_bs_df.groupby('patient_id'):\n",
    "    \n",
    "    years = df['norm_years']\n",
    "\n",
    "    bs_scores = df['BS'] \n",
    "\n",
    "    rate_of_change = (bs_scores.shift(-1) - bs_scores) / (years.shift(-1) - years)\n",
    "    \n",
    "    if df.shape[0] <= 1:\n",
    "        fixed_df = pd.DataFrame({'BS': bs_scores, 'norm_years': years, 'patient_id': id})\n",
    "    else:\n",
    "        bs_scores.index = years\n",
    "        rate_of_change.index = years\n",
    "\n",
    "        # Full range of years - the actual years that patient was in the study\n",
    "        years_range = pd.RangeIndex(0, stop=max(years))\n",
    "\n",
    "        fixed_data = []\n",
    "        last_bs_obs = None\n",
    "        for year in years_range:\n",
    "            # If we had data for this year, add set the last observation\n",
    "            # and add this entry to fixed data\n",
    "            if year in years.values:\n",
    "                last_obs = (bs_scores.loc[year], rate_of_change.loc[year])\n",
    "                fixed_data.append(last_obs[0])\n",
    "\n",
    "            # Else, make a new observation by adding the rate of change to the last BS score we had\n",
    "            # and updating the last observation to this new observation keeping the rate of change the same\n",
    "            else:\n",
    "                new_obs = last_obs[0] + last_obs[1]\n",
    "                fixed_data.append(new_obs)\n",
    "                last_obs = (new_obs, last_obs[1])\n",
    "\n",
    "        fixed_df = pd.DataFrame({'BS': fixed_data, 'norm_years': years_range})\n",
    "        fixed_df['patient_id'] = id\n",
    "    \n",
    "    fixed_dfs.append(fixed_df)\n",
    "    \n",
    "fixed_bs_df = pd.concat(fixed_dfs)\n",
    "fixed_bs_df = fixed_bs_df.set_index('patient_id')\n",
    "fixed_bs_df.head()"
   ]
  },
  {
   "cell_type": "code",
   "execution_count": null,
   "metadata": {
    "collapsed": true
   },
   "outputs": [],
   "source": []
  }
 ],
 "metadata": {
  "kernelspec": {
   "display_name": "Python 3",
   "language": "python",
   "name": "python3"
  },
  "language_info": {
   "codemirror_mode": {
    "name": "ipython",
    "version": 3
   },
   "file_extension": ".py",
   "mimetype": "text/x-python",
   "name": "python",
   "nbconvert_exporter": "python",
   "pygments_lexer": "ipython3",
   "version": "3.6.3"
  }
 },
 "nbformat": 4,
 "nbformat_minor": 2
}
