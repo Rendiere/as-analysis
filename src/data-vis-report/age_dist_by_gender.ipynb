{
 "cells": [
  {
   "cell_type": "markdown",
   "metadata": {},
   "source": [
    "# Histogram of age at entry distribution for males and females\n",
    "\n",
    "This notepad looks at the distribution of the age at entry of both males and females. The goal is to get a general idea of how the age of patients at entry are distributed. Furthermore, we investigate if there is a significant difference between the age at which males and females get diagnosed.\n",
    "## Import required packages"
   ]
  },
  {
   "cell_type": "code",
   "execution_count": 31,
   "metadata": {},
   "outputs": [],
   "source": [
    "import pandas as pd\n",
    "import seaborn as sns\n",
    "from matplotlib import pyplot as plt\n",
    "\n",
    "%matplotlib inline"
   ]
  },
  {
   "cell_type": "markdown",
   "metadata": {},
   "source": [
    "## Import demographics data"
   ]
  },
  {
   "cell_type": "code",
   "execution_count": 32,
   "metadata": {},
   "outputs": [
    {
     "name": "stdout",
     "output_type": "stream",
     "text": [
      "Number of patients in demographics data : 721\n",
      "Shape of the dataset:  (721, 10)\n"
     ]
    }
   ],
   "source": [
    "# Demographics DataFrame\n",
    "demo_df = pd.read_excel('../data/demographics and Biologics data.xlsx')\n",
    "\n",
    "print('Number of patients in demographics data :', len(demo_df['patient_id'].unique()))\n",
    "print('Shape of the dataset: ',demo_df.shape)"
   ]
  },
  {
   "cell_type": "markdown",
   "metadata": {},
   "source": [
    "### How many patients have BASMI data but not demographics?"
   ]
  },
  {
   "cell_type": "code",
   "execution_count": 33,
   "metadata": {},
   "outputs": [
    {
     "name": "stdout",
     "output_type": "stream",
     "text": [
      "Number of patients with BASMI data:  910\n",
      "Number of patient with BASMI AND demographics data:  688\n"
     ]
    }
   ],
   "source": [
    "bs_df = pd.read_excel('../data/bs_normed_full.xls', index_col=0)\n",
    "\n",
    "basmi_patient_ids = set(bs_df.index.unique().values)\n",
    "demo_patient_ids = set(demo_df['patient_id'].unique())\n",
    "\n",
    "overlap_patient_ids = basmi_patient_ids.intersection(demo_patient_ids)\n",
    "\n",
    "print('Number of patients with BASMI data: ',len(basmi_patient_ids))\n",
    "print('Number of patient with BASMI AND demographics data: ',len(overlap_patient_ids))\n"
   ]
  },
  {
   "cell_type": "markdown",
   "metadata": {},
   "source": [
    "### Limit demographics data to patients who have BASMI data\n"
   ]
  },
  {
   "cell_type": "code",
   "execution_count": 34,
   "metadata": {},
   "outputs": [
    {
     "name": "stdout",
     "output_type": "stream",
     "text": [
      "(688, 10)\n"
     ]
    }
   ],
   "source": [
    "demo_df = demo_df[demo_df['patient_id'].isin(list(overlap_patient_ids))]\n",
    "print(demo_df.shape)"
   ]
  },
  {
   "cell_type": "markdown",
   "metadata": {},
   "source": [
    "## Drop missing values\n",
    "\n",
    "Drop rows from the dataset where any of the data is missing."
   ]
  },
  {
   "cell_type": "code",
   "execution_count": 35,
   "metadata": {},
   "outputs": [
    {
     "name": "stdout",
     "output_type": "stream",
     "text": [
      "The demographics data has 25 rows that contain missing values\n",
      "Drop these rows...\n",
      "Updated shape :  (663, 10)\n"
     ]
    },
    {
     "data": {
      "text/html": [
       "<div>\n",
       "<style>\n",
       "    .dataframe thead tr:only-child th {\n",
       "        text-align: right;\n",
       "    }\n",
       "\n",
       "    .dataframe thead th {\n",
       "        text-align: left;\n",
       "    }\n",
       "\n",
       "    .dataframe tbody tr th {\n",
       "        vertical-align: top;\n",
       "    }\n",
       "</style>\n",
       "<table border=\"1\" class=\"dataframe\">\n",
       "  <thead>\n",
       "    <tr style=\"text-align: right;\">\n",
       "      <th></th>\n",
       "      <th>patient_id</th>\n",
       "      <th>patient_gender_id</th>\n",
       "      <th>patient_date_of_diagnosis</th>\n",
       "      <th>Age at diagnosis</th>\n",
       "      <th>patient_hla_bUnknown7_id</th>\n",
       "      <th>EIBP</th>\n",
       "      <th>patient_condition_subtype</th>\n",
       "      <th>Current biologic</th>\n",
       "      <th>Number of biologics used (not including brand/biosimilar switch)</th>\n",
       "      <th>year of Birth</th>\n",
       "    </tr>\n",
       "  </thead>\n",
       "  <tbody>\n",
       "    <tr>\n",
       "      <th>0</th>\n",
       "      <td>40</td>\n",
       "      <td>Female</td>\n",
       "      <td>1994-01-01</td>\n",
       "      <td>46.255989</td>\n",
       "      <td>Positive</td>\n",
       "      <td>False</td>\n",
       "      <td>AS</td>\n",
       "      <td>Infliximab</td>\n",
       "      <td>1</td>\n",
       "      <td>1947</td>\n",
       "    </tr>\n",
       "    <tr>\n",
       "      <th>1</th>\n",
       "      <td>41</td>\n",
       "      <td>Male</td>\n",
       "      <td>2003-01-01</td>\n",
       "      <td>46.644764</td>\n",
       "      <td>Positive</td>\n",
       "      <td>False</td>\n",
       "      <td>AS</td>\n",
       "      <td>Adalimumab</td>\n",
       "      <td>1</td>\n",
       "      <td>1956</td>\n",
       "    </tr>\n",
       "    <tr>\n",
       "      <th>2</th>\n",
       "      <td>43</td>\n",
       "      <td>Male</td>\n",
       "      <td>1978-01-01</td>\n",
       "      <td>20.410678</td>\n",
       "      <td>Positive</td>\n",
       "      <td>False</td>\n",
       "      <td>AS</td>\n",
       "      <td>Adalimumab</td>\n",
       "      <td>1</td>\n",
       "      <td>1957</td>\n",
       "    </tr>\n",
       "    <tr>\n",
       "      <th>3</th>\n",
       "      <td>44</td>\n",
       "      <td>Male</td>\n",
       "      <td>1994-01-01</td>\n",
       "      <td>22.047912</td>\n",
       "      <td>Unknown</td>\n",
       "      <td>False</td>\n",
       "      <td>AS</td>\n",
       "      <td>Adalimumab</td>\n",
       "      <td>1</td>\n",
       "      <td>1971</td>\n",
       "    </tr>\n",
       "    <tr>\n",
       "      <th>4</th>\n",
       "      <td>45</td>\n",
       "      <td>Male</td>\n",
       "      <td>1998-01-01</td>\n",
       "      <td>37.048597</td>\n",
       "      <td>Positive</td>\n",
       "      <td>False</td>\n",
       "      <td>AS</td>\n",
       "      <td>Etanercept</td>\n",
       "      <td>1</td>\n",
       "      <td>1960</td>\n",
       "    </tr>\n",
       "  </tbody>\n",
       "</table>\n",
       "</div>"
      ],
      "text/plain": [
       "   patient_id patient_gender_id patient_date_of_diagnosis  Age at diagnosis  \\\n",
       "0          40            Female                1994-01-01         46.255989   \n",
       "1          41              Male                2003-01-01         46.644764   \n",
       "2          43              Male                1978-01-01         20.410678   \n",
       "3          44              Male                1994-01-01         22.047912   \n",
       "4          45              Male                1998-01-01         37.048597   \n",
       "\n",
       "  patient_hla_bUnknown7_id   EIBP patient_condition_subtype Current biologic  \\\n",
       "0                 Positive  False                        AS       Infliximab   \n",
       "1                 Positive  False                        AS       Adalimumab   \n",
       "2                 Positive  False                        AS       Adalimumab   \n",
       "3                  Unknown  False                        AS       Adalimumab   \n",
       "4                 Positive  False                        AS       Etanercept   \n",
       "\n",
       "  Number of biologics used (not including brand/biosimilar switch)  \\\n",
       "0                                                  1                 \n",
       "1                                                  1                 \n",
       "2                                                  1                 \n",
       "3                                                  1                 \n",
       "4                                                  1                 \n",
       "\n",
       "   year of Birth  \n",
       "0           1947  \n",
       "1           1956  \n",
       "2           1957  \n",
       "3           1971  \n",
       "4           1960  "
      ]
     },
     "execution_count": 35,
     "metadata": {},
     "output_type": "execute_result"
    }
   ],
   "source": [
    "# Entries with missing values\n",
    "demo_nulls = demo_df[demo_df.isnull().any(axis=1)]\n",
    "\n",
    "print(f'The demographics data has {demo_nulls.shape[0]} rows that contain missing values')\n",
    "print('Drop these rows...')\n",
    "demo_df.dropna(how='any',inplace=True)\n",
    "print('Updated shape : ',demo_df.shape)\n",
    "demo_df.head()"
   ]
  },
  {
   "cell_type": "markdown",
   "metadata": {},
   "source": [
    "## Plot histogram of age distribution\n",
    "\n",
    "This plot shows the distribution of the age of entry into the study. It gives a general idea of when patients were diagnosed. "
   ]
  },
  {
   "cell_type": "code",
   "execution_count": 36,
   "metadata": {},
   "outputs": [
    {
     "data": {
      "text/plain": [
       "Text(0,0.5,'Prob')"
      ]
     },
     "execution_count": 36,
     "metadata": {},
     "output_type": "execute_result"
    },
    {
     "data": {
      "image/png": "[encoded data removed]",
      "text/plain": [
       "<matplotlib.figure.Figure at 0x1148a1d30>"
      ]
     },
     "metadata": {},
     "output_type": "display_data"
    }
   ],
   "source": [
    "age_at_entry = demo_df['Age at diagnosis'].values\n",
    "\n",
    "ax = sns.distplot(age_at_entry)\n",
    "ax.set_title('Age Distribution')\n",
    "ax.set_xlabel('Age')\n",
    "ax.set_ylabel('Prob')"
   ]
  },
  {
   "cell_type": "code",
   "execution_count": 37,
   "metadata": {},
   "outputs": [
    {
     "name": "stdout",
     "output_type": "stream",
     "text": [
      "                0\n",
      "count  663.000000\n",
      "mean    30.526917\n",
      "std     10.833736\n",
      "min     11.156742\n",
      "25%     22.737851\n",
      "50%     28.106776\n",
      "75%     35.712526\n",
      "max     70.904860\n"
     ]
    },
    {
     "data": {
      "text/plain": [
       "[Text(0,0,'Age at entry')]"
      ]
     },
     "execution_count": 37,
     "metadata": {},
     "output_type": "execute_result"
    },
    {
     "data": {
      "image/png": "[encoded data removed]",
      "text/plain": [
       "<matplotlib.figure.Figure at 0x1141a52b0>"
      ]
     },
     "metadata": {},
     "output_type": "display_data"
    }
   ],
   "source": [
    "# Insert a boxplot\n",
    "five_point_summary = pd.DataFrame(age_at_entry).describe()\n",
    "print(five_point_summary)\n",
    "f = plt.figure(1, figsize=(9, 6))\n",
    "a = f.add_subplot(111)\n",
    "bp = a.boxplot(age_at_entry, patch_artist=True)\n",
    "a.set_xticklabels(['Age at entry'])"
   ]
  },
  {
   "cell_type": "markdown",
   "metadata": {},
   "source": [
    "It is observed that the age distribution is slightly positively skewed. Furthermore, the modal age at entry is approximately 25 years. This is younger than expected (by me at least). "
   ]
  },
  {
   "cell_type": "markdown",
   "metadata": {},
   "source": [
    "## Age distribution by gender\n",
    "\n",
    "We now plot the distribution of age at entry stratified across gender. "
   ]
  },
  {
   "cell_type": "code",
   "execution_count": 38,
   "metadata": {},
   "outputs": [
    {
     "data": {
      "text/plain": [
       "Text(0,0.5,'Probability')"
      ]
     },
     "execution_count": 38,
     "metadata": {},
     "output_type": "execute_result"
    },
    {
     "data": {
      "image/png": "[encoded data removed]",
      "text/plain": [
       "<matplotlib.figure.Figure at 0x114b31e80>"
      ]
     },
     "metadata": {},
     "output_type": "display_data"
    }
   ],
   "source": [
    "genders = demo_df['patient_gender_id']\n",
    "# Get male and female index\n",
    "male_ids = demo_df[genders == 'Male']['patient_id']\n",
    "female_ids = demo_df[genders == 'Female']['patient_id']\n",
    "\n",
    "# Get demographics about males and females\n",
    "male_demo_df = demo_df[demo_df['patient_id'].isin(male_ids)]\n",
    "female_demo_df = demo_df[demo_df['patient_id'].isin(female_ids)]\n",
    "\n",
    "# Plot age at entry distribution for males and females\n",
    "age_at_entry_male = male_demo_df['Age at diagnosis'].values\n",
    "age_at_entry_female = female_demo_df['Age at diagnosis'].values\n",
    "\n",
    "fig, ax_2 = plt.subplots(1,2)\n",
    "plt.subplots_adjust(wspace = 0.5)\n",
    "sns.distplot(age_at_entry_male, ax = ax_2[0])\n",
    "ax_2[0].set_title('Age distribution: Males')\n",
    "ax_2[0].set_xlabel('Age')\n",
    "ax_2[0].set_ylabel('Probability')\n",
    "sns.distplot(age_at_entry_female, ax = ax_2[1] )\n",
    "ax_2[1].set_title('Age distribution: Females')\n",
    "ax_2[1].set_xlabel('Age')\n",
    "ax_2[1].set_ylabel('Probability')"
   ]
  },
  {
   "cell_type": "markdown",
   "metadata": {},
   "source": [
    "It is seen that the shape of the two histograms are similar. Hence, there is not a massive difference between the age at entry of males and females. Notice that females are diagnosed at an earlier stage than males, although this is only a marginal difference."
   ]
  },
  {
   "cell_type": "code",
   "execution_count": null,
   "metadata": {},
   "outputs": [],
   "source": []
  }
 ],
 "metadata": {
  "kernelspec": {
   "display_name": "Python [default]",
   "language": "python",
   "name": "python3"
  },
  "language_info": {
   "codemirror_mode": {
    "name": "ipython",
    "version": 3
   },
   "file_extension": ".py",
   "mimetype": "text/x-python",
   "name": "python",
   "nbconvert_exporter": "python",
   "pygments_lexer": "ipython3",
   "version": "3.6.3"
  }
 },
 "nbformat": 4,
 "nbformat_minor": 2
}
