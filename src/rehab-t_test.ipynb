{
 "cells": [
  {
   "cell_type": "markdown",
   "metadata": {},
   "source": [
    "# t_test On Rehab patient data"
   ]
  },
  {
   "cell_type": "code",
   "execution_count": 93,
   "metadata": {},
   "outputs": [],
   "source": [
    "import pandas as pd\n",
    "import numpy as np\n",
    "\n",
    "import matplotlib.pyplot as plt\n",
    "import seaborn as sns\n",
    "\n",
    "sns.set()\n",
    "%matplotlib inline"
   ]
  },
  {
   "cell_type": "code",
   "execution_count": 84,
   "metadata": {},
   "outputs": [
    {
     "data": {
      "text/html": [
       "<div>\n",
       "<style>\n",
       "    .dataframe thead tr:only-child th {\n",
       "        text-align: right;\n",
       "    }\n",
       "\n",
       "    .dataframe thead th {\n",
       "        text-align: left;\n",
       "    }\n",
       "\n",
       "    .dataframe tbody tr th {\n",
       "        vertical-align: top;\n",
       "    }\n",
       "</style>\n",
       "<table border=\"1\" class=\"dataframe\">\n",
       "  <thead>\n",
       "    <tr style=\"text-align: right;\">\n",
       "      <th></th>\n",
       "      <th>BS</th>\n",
       "      <th>patient_id</th>\n",
       "      <th>Date</th>\n",
       "      <th>Drug</th>\n",
       "    </tr>\n",
       "  </thead>\n",
       "  <tbody>\n",
       "    <tr>\n",
       "      <th>0</th>\n",
       "      <td>3.6</td>\n",
       "      <td>40</td>\n",
       "      <td>1995-05-09</td>\n",
       "      <td>NaN</td>\n",
       "    </tr>\n",
       "    <tr>\n",
       "      <th>1</th>\n",
       "      <td>4.0</td>\n",
       "      <td>40</td>\n",
       "      <td>1995-06-01</td>\n",
       "      <td>NaN</td>\n",
       "    </tr>\n",
       "    <tr>\n",
       "      <th>2</th>\n",
       "      <td>2.6</td>\n",
       "      <td>40</td>\n",
       "      <td>1995-06-12</td>\n",
       "      <td>NaN</td>\n",
       "    </tr>\n",
       "    <tr>\n",
       "      <th>3</th>\n",
       "      <td>2.2</td>\n",
       "      <td>40</td>\n",
       "      <td>1995-11-02</td>\n",
       "      <td>NaN</td>\n",
       "    </tr>\n",
       "    <tr>\n",
       "      <th>4</th>\n",
       "      <td>2.4</td>\n",
       "      <td>40</td>\n",
       "      <td>1996-05-02</td>\n",
       "      <td>NaN</td>\n",
       "    </tr>\n",
       "  </tbody>\n",
       "</table>\n",
       "</div>"
      ],
      "text/plain": [
       "    BS  patient_id       Date Drug\n",
       "0  3.6          40 1995-05-09  NaN\n",
       "1  4.0          40 1995-06-01  NaN\n",
       "2  2.6          40 1995-06-12  NaN\n",
       "3  2.2          40 1995-11-02  NaN\n",
       "4  2.4          40 1996-05-02  NaN"
      ]
     },
     "execution_count": 84,
     "metadata": {},
     "output_type": "execute_result"
    }
   ],
   "source": [
    "basmi_df = pd.read_excel('../data/clean_basmi.xls', index_col=(0,1))\n",
    "\n",
    "basmi_df = basmi_df.reset_index()[['BS', 'patient_id','Date', 'Drug']]\n",
    "basmi_df.head()"
   ]
  },
  {
   "cell_type": "markdown",
   "metadata": {},
   "source": [
    "## Identify rehab patients\n",
    "\n",
    "* For each patient:\n",
    "    - calculate difference in measurement date\n",
    "    - filter on measurements <= 15 and >= 10\n"
   ]
  },
  {
   "cell_type": "code",
   "execution_count": 106,
   "metadata": {},
   "outputs": [
    {
     "name": "stdout",
     "output_type": "stream",
     "text": [
      "155 patients underwent rehab\n"
     ]
    },
    {
     "data": {
      "text/html": [
       "<div>\n",
       "<style>\n",
       "    .dataframe thead tr:only-child th {\n",
       "        text-align: right;\n",
       "    }\n",
       "\n",
       "    .dataframe thead th {\n",
       "        text-align: left;\n",
       "    }\n",
       "\n",
       "    .dataframe tbody tr th {\n",
       "        vertical-align: top;\n",
       "    }\n",
       "</style>\n",
       "<table border=\"1\" class=\"dataframe\">\n",
       "  <thead>\n",
       "    <tr style=\"text-align: right;\">\n",
       "      <th></th>\n",
       "      <th></th>\n",
       "      <th>BS</th>\n",
       "      <th>patient_id</th>\n",
       "      <th>Date</th>\n",
       "      <th>Drug</th>\n",
       "      <th>Date_diff</th>\n",
       "    </tr>\n",
       "    <tr>\n",
       "      <th>patient_id</th>\n",
       "      <th></th>\n",
       "      <th></th>\n",
       "      <th></th>\n",
       "      <th></th>\n",
       "      <th></th>\n",
       "      <th></th>\n",
       "    </tr>\n",
       "  </thead>\n",
       "  <tbody>\n",
       "    <tr>\n",
       "      <th rowspan=\"2\" valign=\"top\">43</th>\n",
       "      <th>60</th>\n",
       "      <td>1.4</td>\n",
       "      <td>43</td>\n",
       "      <td>2004-09-08</td>\n",
       "      <td>NaN</td>\n",
       "      <td>345.0</td>\n",
       "    </tr>\n",
       "    <tr>\n",
       "      <th>61</th>\n",
       "      <td>0.4</td>\n",
       "      <td>43</td>\n",
       "      <td>2004-09-22</td>\n",
       "      <td>NaN</td>\n",
       "      <td>14.0</td>\n",
       "    </tr>\n",
       "    <tr>\n",
       "      <th rowspan=\"2\" valign=\"top\">44</th>\n",
       "      <th>83</th>\n",
       "      <td>3.2</td>\n",
       "      <td>44</td>\n",
       "      <td>1995-07-27</td>\n",
       "      <td>NaN</td>\n",
       "      <td>136.0</td>\n",
       "    </tr>\n",
       "    <tr>\n",
       "      <th>84</th>\n",
       "      <td>3.2</td>\n",
       "      <td>44</td>\n",
       "      <td>1995-08-10</td>\n",
       "      <td>NaN</td>\n",
       "      <td>14.0</td>\n",
       "    </tr>\n",
       "    <tr>\n",
       "      <th>46</th>\n",
       "      <th>147</th>\n",
       "      <td>3.8</td>\n",
       "      <td>46</td>\n",
       "      <td>2004-07-22</td>\n",
       "      <td>NaN</td>\n",
       "      <td>49.0</td>\n",
       "    </tr>\n",
       "  </tbody>\n",
       "</table>\n",
       "</div>"
      ],
      "text/plain": [
       "                 BS  patient_id       Date Drug  Date_diff\n",
       "patient_id                                                \n",
       "43         60   1.4          43 2004-09-08  NaN      345.0\n",
       "           61   0.4          43 2004-09-22  NaN       14.0\n",
       "44         83   3.2          44 1995-07-27  NaN      136.0\n",
       "           84   3.2          44 1995-08-10  NaN       14.0\n",
       "46         147  3.8          46 2004-07-22  NaN       49.0"
      ]
     },
     "execution_count": 106,
     "metadata": {},
     "output_type": "execute_result"
    }
   ],
   "source": [
    "def get_rehab(s):\n",
    "    \n",
    "    rehab_date = s[s['Date_diff'] == 14]\n",
    "    \n",
    "    if not rehab_date.empty:\n",
    "    \n",
    "        idx = rehab_date.index.values[0]\n",
    "    \n",
    "        rehab_period = s.loc[idx-1:idx]\n",
    "    \n",
    "        return rehab_period\n",
    "\n",
    "basmi_df['Date_diff'] = basmi_df['Date'].diff().dt.days\n",
    "\n",
    "rehab_df = basmi_df.groupby(['patient_id']).apply(get_rehab)\n",
    "\n",
    "print('{} patients underwent rehab'.format(len(rehab_df['patient_id'].unique())))\n",
    "rehab_df.head()"
   ]
  },
  {
   "cell_type": "code",
   "execution_count": 100,
   "metadata": {},
   "outputs": [
    {
     "name": "stdout",
     "output_type": "stream",
     "text": [
      "155\n"
     ]
    }
   ],
   "source": [
    "before = rehab_df.iloc[::2]['BS']\n",
    "after = rehab_df.iloc[1::2]['BS']\n",
    "\n",
    "print(len(before))"
   ]
  },
  {
   "cell_type": "code",
   "execution_count": 92,
   "metadata": {},
   "outputs": [
    {
     "name": "stdout",
     "output_type": "stream",
     "text": [
      "t = 4.371559924373554\n",
      "p = 1.6907762309652515e-05\n"
     ]
    }
   ],
   "source": [
    "from scipy import stats\n",
    "\n",
    "t, p = stats.ttest_ind(before, after)\n",
    "\n",
    "print('t = {}'.format(t))\n",
    "print('p = {}'.format(p))"
   ]
  },
  {
   "cell_type": "code",
   "execution_count": 103,
   "metadata": {},
   "outputs": [
    {
     "data": {
      "image/png": "[encoded data removed]",
      "text/plain": [
       "<matplotlib.figure.Figure at 0x1a13efc8d0>"
      ]
     },
     "metadata": {},
     "output_type": "display_data"
    }
   ],
   "source": [
    "fig = plt.figure()\n",
    "sns.distplot(before, bins=25)\n",
    "sns.distplot(after, bins=25)\n",
    "plt.show()"
   ]
  },
  {
   "cell_type": "code",
   "execution_count": null,
   "metadata": {},
   "outputs": [],
   "source": []
  }
 ],
 "metadata": {
  "kernelspec": {
   "display_name": "as-analysis",
   "language": "python",
   "name": "as-analysis"
  },
  "language_info": {
   "codemirror_mode": {
    "name": "ipython",
    "version": 3
   },
   "file_extension": ".py",
   "mimetype": "text/x-python",
   "name": "python",
   "nbconvert_exporter": "python",
   "pygments_lexer": "ipython3",
   "version": "3.6.3"
  }
 },
 "nbformat": 4,
 "nbformat_minor": 2
}
