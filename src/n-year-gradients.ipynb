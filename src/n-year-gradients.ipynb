{
 "cells": [
  {
   "cell_type": "code",
   "execution_count": 2,
   "metadata": {
    "collapsed": true
   },
   "outputs": [],
   "source": [
    "import pandas as pd\n",
    "import numpy as np\n",
    "import matplotlib.pyplot as plt\n",
    "\n",
    "%matplotlib inline"
   ]
  },
  {
   "cell_type": "markdown",
   "metadata": {},
   "source": [
    "## Get n-year gradients\n",
    "\n",
    "Take the 1, 5 and 10-year time-differences of the BS score for each patient."
   ]
  },
  {
   "cell_type": "code",
   "execution_count": 3,
   "metadata": {
    "scrolled": true
   },
   "outputs": [
    {
     "data": {
      "text/html": [
       "<div>\n",
       "<style>\n",
       "    .dataframe thead tr:only-child th {\n",
       "        text-align: right;\n",
       "    }\n",
       "\n",
       "    .dataframe thead th {\n",
       "        text-align: left;\n",
       "    }\n",
       "\n",
       "    .dataframe tbody tr th {\n",
       "        vertical-align: top;\n",
       "    }\n",
       "</style>\n",
       "<table border=\"1\" class=\"dataframe\">\n",
       "  <thead>\n",
       "    <tr style=\"text-align: right;\">\n",
       "      <th></th>\n",
       "      <th>BS</th>\n",
       "      <th>norm_years</th>\n",
       "      <th>1_grad</th>\n",
       "      <th>5_grad</th>\n",
       "      <th>10_grad</th>\n",
       "    </tr>\n",
       "    <tr>\n",
       "      <th>patient_id</th>\n",
       "      <th></th>\n",
       "      <th></th>\n",
       "      <th></th>\n",
       "      <th></th>\n",
       "      <th></th>\n",
       "    </tr>\n",
       "  </thead>\n",
       "  <tbody>\n",
       "    <tr>\n",
       "      <th>40</th>\n",
       "      <td>2.96</td>\n",
       "      <td>0</td>\n",
       "      <td>NaN</td>\n",
       "      <td>NaN</td>\n",
       "      <td>NaN</td>\n",
       "    </tr>\n",
       "    <tr>\n",
       "      <th>40</th>\n",
       "      <td>3.00</td>\n",
       "      <td>1</td>\n",
       "      <td>0.04</td>\n",
       "      <td>NaN</td>\n",
       "      <td>NaN</td>\n",
       "    </tr>\n",
       "    <tr>\n",
       "      <th>40</th>\n",
       "      <td>3.20</td>\n",
       "      <td>2</td>\n",
       "      <td>0.20</td>\n",
       "      <td>NaN</td>\n",
       "      <td>NaN</td>\n",
       "    </tr>\n",
       "    <tr>\n",
       "      <th>40</th>\n",
       "      <td>3.10</td>\n",
       "      <td>3</td>\n",
       "      <td>-0.10</td>\n",
       "      <td>NaN</td>\n",
       "      <td>NaN</td>\n",
       "    </tr>\n",
       "    <tr>\n",
       "      <th>40</th>\n",
       "      <td>3.40</td>\n",
       "      <td>4</td>\n",
       "      <td>0.30</td>\n",
       "      <td>NaN</td>\n",
       "      <td>NaN</td>\n",
       "    </tr>\n",
       "  </tbody>\n",
       "</table>\n",
       "</div>"
      ],
      "text/plain": [
       "              BS  norm_years  1_grad  5_grad  10_grad\n",
       "patient_id                                           \n",
       "40          2.96           0     NaN     NaN      NaN\n",
       "40          3.00           1    0.04     NaN      NaN\n",
       "40          3.20           2    0.20     NaN      NaN\n",
       "40          3.10           3   -0.10     NaN      NaN\n",
       "40          3.40           4    0.30     NaN      NaN"
      ]
     },
     "execution_count": 3,
     "metadata": {},
     "output_type": "execute_result"
    }
   ],
   "source": [
    "bs_df = pd.read_excel('../data/bs_normed_full.xls', index_col=0)\n",
    "\n",
    "def get_grad(df, n):\n",
    "    return df.diff(n)\n",
    "\n",
    "for n in [1,5,10]:\n",
    "    bs_df[f'{n}_grad'] = bs_df.groupby('patient_id')['BS'].transform(lambda x: get_grad(x, n))\n",
    "\n",
    "bs_df.head()"
   ]
  },
  {
   "cell_type": "markdown",
   "metadata": {},
   "source": [
    "### Get the average n-year gradient for each patient"
   ]
  },
  {
   "cell_type": "code",
   "execution_count": 5,
   "metadata": {},
   "outputs": [
    {
     "data": {
      "text/html": [
       "<div>\n",
       "<style>\n",
       "    .dataframe thead tr:only-child th {\n",
       "        text-align: right;\n",
       "    }\n",
       "\n",
       "    .dataframe thead th {\n",
       "        text-align: left;\n",
       "    }\n",
       "\n",
       "    .dataframe tbody tr th {\n",
       "        vertical-align: top;\n",
       "    }\n",
       "</style>\n",
       "<table border=\"1\" class=\"dataframe\">\n",
       "  <thead>\n",
       "    <tr style=\"text-align: right;\">\n",
       "      <th></th>\n",
       "      <th>BS</th>\n",
       "      <th>norm_years</th>\n",
       "      <th>1_grad</th>\n",
       "      <th>5_grad</th>\n",
       "      <th>10_grad</th>\n",
       "    </tr>\n",
       "    <tr>\n",
       "      <th>patient_id</th>\n",
       "      <th></th>\n",
       "      <th></th>\n",
       "      <th></th>\n",
       "      <th></th>\n",
       "      <th></th>\n",
       "    </tr>\n",
       "  </thead>\n",
       "  <tbody>\n",
       "    <tr>\n",
       "      <th>40</th>\n",
       "      <td>3.217368</td>\n",
       "      <td>9.0</td>\n",
       "      <td>0.013333</td>\n",
       "      <td>0.172143</td>\n",
       "      <td>0.067778</td>\n",
       "    </tr>\n",
       "    <tr>\n",
       "      <th>41</th>\n",
       "      <td>5.171429</td>\n",
       "      <td>3.0</td>\n",
       "      <td>0.255000</td>\n",
       "      <td>1.295000</td>\n",
       "      <td>NaN</td>\n",
       "    </tr>\n",
       "    <tr>\n",
       "      <th>43</th>\n",
       "      <td>1.454250</td>\n",
       "      <td>9.5</td>\n",
       "      <td>-0.006842</td>\n",
       "      <td>-0.121048</td>\n",
       "      <td>-0.417500</td>\n",
       "    </tr>\n",
       "    <tr>\n",
       "      <th>44</th>\n",
       "      <td>5.498810</td>\n",
       "      <td>10.0</td>\n",
       "      <td>0.124000</td>\n",
       "      <td>0.910625</td>\n",
       "      <td>2.137727</td>\n",
       "    </tr>\n",
       "    <tr>\n",
       "      <th>45</th>\n",
       "      <td>2.231667</td>\n",
       "      <td>5.5</td>\n",
       "      <td>-0.061818</td>\n",
       "      <td>0.017143</td>\n",
       "      <td>-0.640000</td>\n",
       "    </tr>\n",
       "  </tbody>\n",
       "</table>\n",
       "</div>"
      ],
      "text/plain": [
       "                  BS  norm_years    1_grad    5_grad   10_grad\n",
       "patient_id                                                    \n",
       "40          3.217368         9.0  0.013333  0.172143  0.067778\n",
       "41          5.171429         3.0  0.255000  1.295000       NaN\n",
       "43          1.454250         9.5 -0.006842 -0.121048 -0.417500\n",
       "44          5.498810        10.0  0.124000  0.910625  2.137727\n",
       "45          2.231667         5.5 -0.061818  0.017143 -0.640000"
      ]
     },
     "execution_count": 5,
     "metadata": {},
     "output_type": "execute_result"
    }
   ],
   "source": [
    "mean_bs_df = bs_df.groupby('patient_id').apply(np.mean)\n",
    "mean_bs_df.head()"
   ]
  },
  {
   "cell_type": "code",
   "execution_count": null,
   "metadata": {
    "collapsed": true
   },
   "outputs": [],
   "source": []
  }
 ],
 "metadata": {
  "kernelspec": {
   "display_name": "Python [default]",
   "language": "python",
   "name": "python3"
  },
  "language_info": {
   "codemirror_mode": {
    "name": "ipython",
    "version": 3
   },
   "file_extension": ".py",
   "mimetype": "text/x-python",
   "name": "python",
   "nbconvert_exporter": "python",
   "pygments_lexer": "ipython3",
   "version": "3.6.3"
  }
 },
 "nbformat": 4,
 "nbformat_minor": 2
}
