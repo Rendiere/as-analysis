{
 "cells": [
  {
   "cell_type": "markdown",
   "metadata": {},
   "source": [
    "# t_test On Rehab patient data"
   ]
  },
  {
   "cell_type": "code",
   "execution_count": 1,
   "metadata": {},
   "outputs": [],
   "source": [
    "import pandas as pd\n",
    "import numpy as np\n",
    "\n",
    "import matplotlib.pyplot as plt\n",
    "import seaborn as sns\n",
    "\n",
    "sns.set()\n",
    "%matplotlib inline"
   ]
  },
  {
   "cell_type": "code",
   "execution_count": 3,
   "metadata": {},
   "outputs": [
    {
     "data": {
      "text/html": [
       "<div>\n",
       "<style>\n",
       "    .dataframe thead tr:only-child th {\n",
       "        text-align: right;\n",
       "    }\n",
       "\n",
       "    .dataframe thead th {\n",
       "        text-align: left;\n",
       "    }\n",
       "\n",
       "    .dataframe tbody tr th {\n",
       "        vertical-align: top;\n",
       "    }\n",
       "</style>\n",
       "<table border=\"1\" class=\"dataframe\">\n",
       "  <thead>\n",
       "    <tr style=\"text-align: right;\">\n",
       "      <th></th>\n",
       "      <th>BS</th>\n",
       "      <th>patient_id</th>\n",
       "      <th>Date</th>\n",
       "      <th>Drug</th>\n",
       "    </tr>\n",
       "  </thead>\n",
       "  <tbody>\n",
       "    <tr>\n",
       "      <th>0</th>\n",
       "      <td>3.6</td>\n",
       "      <td>40</td>\n",
       "      <td>1995-05-09</td>\n",
       "      <td>NaN</td>\n",
       "    </tr>\n",
       "    <tr>\n",
       "      <th>1</th>\n",
       "      <td>4.0</td>\n",
       "      <td>40</td>\n",
       "      <td>1995-06-01</td>\n",
       "      <td>NaN</td>\n",
       "    </tr>\n",
       "    <tr>\n",
       "      <th>2</th>\n",
       "      <td>2.6</td>\n",
       "      <td>40</td>\n",
       "      <td>1995-06-12</td>\n",
       "      <td>NaN</td>\n",
       "    </tr>\n",
       "    <tr>\n",
       "      <th>3</th>\n",
       "      <td>2.2</td>\n",
       "      <td>40</td>\n",
       "      <td>1995-11-02</td>\n",
       "      <td>NaN</td>\n",
       "    </tr>\n",
       "    <tr>\n",
       "      <th>4</th>\n",
       "      <td>2.4</td>\n",
       "      <td>40</td>\n",
       "      <td>1996-05-02</td>\n",
       "      <td>NaN</td>\n",
       "    </tr>\n",
       "  </tbody>\n",
       "</table>\n",
       "</div>"
      ],
      "text/plain": [
       "    BS  patient_id       Date Drug\n",
       "0  3.6          40 1995-05-09  NaN\n",
       "1  4.0          40 1995-06-01  NaN\n",
       "2  2.6          40 1995-06-12  NaN\n",
       "3  2.2          40 1995-11-02  NaN\n",
       "4  2.4          40 1996-05-02  NaN"
      ]
     },
     "execution_count": 3,
     "metadata": {},
     "output_type": "execute_result"
    }
   ],
   "source": [
    "basmi_df = pd.read_excel('../../data/clean_basmi.xls', index_col=(0,1))\n",
    "\n",
    "basmi_df = basmi_df.reset_index()[['BS', 'patient_id','Date', 'Drug']]\n",
    "basmi_df.head()"
   ]
  },
  {
   "cell_type": "markdown",
   "metadata": {},
   "source": [
    "## Identify rehab patients\n",
    "\n",
    "* For each patient:\n",
    "    - calculate difference in measurement date\n",
    "    - filter on measurements <= 15 and >= 10\n"
   ]
  },
  {
   "cell_type": "code",
   "execution_count": 11,
   "metadata": {},
   "outputs": [
    {
     "name": "stdout",
     "output_type": "stream",
     "text": [
      "155 patients underwent rehab\n"
     ]
    },
    {
     "data": {
      "text/html": [
       "<div>\n",
       "<style>\n",
       "    .dataframe thead tr:only-child th {\n",
       "        text-align: right;\n",
       "    }\n",
       "\n",
       "    .dataframe thead th {\n",
       "        text-align: left;\n",
       "    }\n",
       "\n",
       "    .dataframe tbody tr th {\n",
       "        vertical-align: top;\n",
       "    }\n",
       "</style>\n",
       "<table border=\"1\" class=\"dataframe\">\n",
       "  <thead>\n",
       "    <tr style=\"text-align: right;\">\n",
       "      <th></th>\n",
       "      <th>BS</th>\n",
       "      <th>Date</th>\n",
       "      <th>Drug</th>\n",
       "      <th>Date_diff</th>\n",
       "    </tr>\n",
       "    <tr>\n",
       "      <th>patient_id</th>\n",
       "      <th></th>\n",
       "      <th></th>\n",
       "      <th></th>\n",
       "      <th></th>\n",
       "    </tr>\n",
       "  </thead>\n",
       "  <tbody>\n",
       "    <tr>\n",
       "      <th>43</th>\n",
       "      <td>1.4</td>\n",
       "      <td>2004-09-08</td>\n",
       "      <td>NaN</td>\n",
       "      <td>345.0</td>\n",
       "    </tr>\n",
       "    <tr>\n",
       "      <th>43</th>\n",
       "      <td>0.4</td>\n",
       "      <td>2004-09-22</td>\n",
       "      <td>NaN</td>\n",
       "      <td>14.0</td>\n",
       "    </tr>\n",
       "    <tr>\n",
       "      <th>44</th>\n",
       "      <td>3.2</td>\n",
       "      <td>1995-07-27</td>\n",
       "      <td>NaN</td>\n",
       "      <td>136.0</td>\n",
       "    </tr>\n",
       "    <tr>\n",
       "      <th>44</th>\n",
       "      <td>3.2</td>\n",
       "      <td>1995-08-10</td>\n",
       "      <td>NaN</td>\n",
       "      <td>14.0</td>\n",
       "    </tr>\n",
       "    <tr>\n",
       "      <th>46</th>\n",
       "      <td>3.8</td>\n",
       "      <td>2004-07-22</td>\n",
       "      <td>NaN</td>\n",
       "      <td>49.0</td>\n",
       "    </tr>\n",
       "    <tr>\n",
       "      <th>46</th>\n",
       "      <td>3.2</td>\n",
       "      <td>2004-08-05</td>\n",
       "      <td>NaN</td>\n",
       "      <td>14.0</td>\n",
       "    </tr>\n",
       "    <tr>\n",
       "      <th>54</th>\n",
       "      <td>4.6</td>\n",
       "      <td>2003-06-04</td>\n",
       "      <td>NaN</td>\n",
       "      <td>517.0</td>\n",
       "    </tr>\n",
       "    <tr>\n",
       "      <th>54</th>\n",
       "      <td>4.0</td>\n",
       "      <td>2003-06-18</td>\n",
       "      <td>NaN</td>\n",
       "      <td>14.0</td>\n",
       "    </tr>\n",
       "    <tr>\n",
       "      <th>59</th>\n",
       "      <td>5.6</td>\n",
       "      <td>1997-04-03</td>\n",
       "      <td>NaN</td>\n",
       "      <td>-6908.0</td>\n",
       "    </tr>\n",
       "    <tr>\n",
       "      <th>59</th>\n",
       "      <td>6.0</td>\n",
       "      <td>1997-04-17</td>\n",
       "      <td>NaN</td>\n",
       "      <td>14.0</td>\n",
       "    </tr>\n",
       "    <tr>\n",
       "      <th>63</th>\n",
       "      <td>1.4</td>\n",
       "      <td>2007-02-21</td>\n",
       "      <td>Etanercept</td>\n",
       "      <td>385.0</td>\n",
       "    </tr>\n",
       "    <tr>\n",
       "      <th>63</th>\n",
       "      <td>1.2</td>\n",
       "      <td>2007-03-07</td>\n",
       "      <td>Etanercept</td>\n",
       "      <td>14.0</td>\n",
       "    </tr>\n",
       "    <tr>\n",
       "      <th>65</th>\n",
       "      <td>1.8</td>\n",
       "      <td>1976-01-01</td>\n",
       "      <td>NaN</td>\n",
       "      <td>-14217.0</td>\n",
       "    </tr>\n",
       "    <tr>\n",
       "      <th>65</th>\n",
       "      <td>1.4</td>\n",
       "      <td>1976-01-15</td>\n",
       "      <td>NaN</td>\n",
       "      <td>14.0</td>\n",
       "    </tr>\n",
       "    <tr>\n",
       "      <th>69</th>\n",
       "      <td>4.2</td>\n",
       "      <td>2002-07-24</td>\n",
       "      <td>NaN</td>\n",
       "      <td>250.0</td>\n",
       "    </tr>\n",
       "    <tr>\n",
       "      <th>69</th>\n",
       "      <td>3.6</td>\n",
       "      <td>2002-08-07</td>\n",
       "      <td>NaN</td>\n",
       "      <td>14.0</td>\n",
       "    </tr>\n",
       "    <tr>\n",
       "      <th>71</th>\n",
       "      <td>5.0</td>\n",
       "      <td>2002-04-03</td>\n",
       "      <td>NaN</td>\n",
       "      <td>110.0</td>\n",
       "    </tr>\n",
       "    <tr>\n",
       "      <th>71</th>\n",
       "      <td>3.2</td>\n",
       "      <td>2002-04-17</td>\n",
       "      <td>NaN</td>\n",
       "      <td>14.0</td>\n",
       "    </tr>\n",
       "    <tr>\n",
       "      <th>72</th>\n",
       "      <td>4.4</td>\n",
       "      <td>2008-10-22</td>\n",
       "      <td>NaN</td>\n",
       "      <td>251.0</td>\n",
       "    </tr>\n",
       "    <tr>\n",
       "      <th>72</th>\n",
       "      <td>2.0</td>\n",
       "      <td>2008-11-05</td>\n",
       "      <td>NaN</td>\n",
       "      <td>14.0</td>\n",
       "    </tr>\n",
       "  </tbody>\n",
       "</table>\n",
       "</div>"
      ],
      "text/plain": [
       "             BS       Date        Drug  Date_diff\n",
       "patient_id                                       \n",
       "43          1.4 2004-09-08         NaN      345.0\n",
       "43          0.4 2004-09-22         NaN       14.0\n",
       "44          3.2 1995-07-27         NaN      136.0\n",
       "44          3.2 1995-08-10         NaN       14.0\n",
       "46          3.8 2004-07-22         NaN       49.0\n",
       "46          3.2 2004-08-05         NaN       14.0\n",
       "54          4.6 2003-06-04         NaN      517.0\n",
       "54          4.0 2003-06-18         NaN       14.0\n",
       "59          5.6 1997-04-03         NaN    -6908.0\n",
       "59          6.0 1997-04-17         NaN       14.0\n",
       "63          1.4 2007-02-21  Etanercept      385.0\n",
       "63          1.2 2007-03-07  Etanercept       14.0\n",
       "65          1.8 1976-01-01         NaN   -14217.0\n",
       "65          1.4 1976-01-15         NaN       14.0\n",
       "69          4.2 2002-07-24         NaN      250.0\n",
       "69          3.6 2002-08-07         NaN       14.0\n",
       "71          5.0 2002-04-03         NaN      110.0\n",
       "71          3.2 2002-04-17         NaN       14.0\n",
       "72          4.4 2008-10-22         NaN      251.0\n",
       "72          2.0 2008-11-05         NaN       14.0"
      ]
     },
     "execution_count": 11,
     "metadata": {},
     "output_type": "execute_result"
    }
   ],
   "source": [
    "def get_rehab(s):\n",
    "    rehab_date = s[s['Date_diff'] == 14]\n",
    "    if not rehab_date.empty:\n",
    "        idx = rehab_date.index.values[0]\n",
    "        rehab_period = s.loc[idx-1:idx]\n",
    "        return rehab_period\n",
    "\n",
    "basmi_df['Date_diff'] = basmi_df['Date'].diff().dt.days\n",
    "\n",
    "rehab_df = basmi_df.groupby(['patient_id']).apply(get_rehab)\n",
    "\n",
    "print('{} patients underwent rehab'.format(len(rehab_df['patient_id'].unique())))\n",
    "\n",
    "rehab_df.reset_index(level=1, drop=True, inplace=True)\n",
    "rehab_df.drop('patient_id', axis=1, inplace=True)\n",
    "rehab_df.to_csv('../../data/rehab_data.csv')\n",
    "rehab_df.head(20)"
   ]
  },
  {
   "cell_type": "code",
   "execution_count": 5,
   "metadata": {},
   "outputs": [
    {
     "name": "stdout",
     "output_type": "stream",
     "text": [
      "155\n",
      "154\n"
     ]
    }
   ],
   "source": [
    "before = rehab_df.iloc[::2]['BS']\n",
    "after = rehab_df.iloc[1::2]['BS']\n",
    "\n",
    "print(len(before))\n",
    "print(len(after))\n",
    "before.head()\n",
    "\n",
    "before = before[:154]"
   ]
  },
  {
   "cell_type": "code",
   "execution_count": 6,
   "metadata": {},
   "outputs": [
    {
     "name": "stdout",
     "output_type": "stream",
     "text": [
      "t = 4.434264190752112\n",
      "p = 6.448029677903826e-06\n"
     ]
    }
   ],
   "source": [
    "from scipy import stats\n",
    "\n",
    "t, p = stats.ttest_ind(before, after)\n",
    "\n",
    "print('t = {}'.format(t))\n",
    "print('p = {}'.format(p/2))"
   ]
  },
  {
   "cell_type": "markdown",
   "metadata": {},
   "source": [
    "Notice that the test statistic is positive (indicating before - after). Python always performs a two-sided test for symmetrical tests such as the t-test. Therefore, the p-value must be dividd by two to get the one-sided p-value."
   ]
  },
  {
   "cell_type": "code",
   "execution_count": 7,
   "metadata": {},
   "outputs": [
    {
     "name": "stderr",
     "output_type": "stream",
     "text": [
      "/Users/renierbotha/anaconda3/lib/python3.6/site-packages/matplotlib/axes/_axes.py:6462: UserWarning: The 'normed' kwarg is deprecated, and has been replaced by the 'density' kwarg.\n",
      "  warnings.warn(\"The 'normed' kwarg is deprecated, and has been \"\n"
     ]
    },
    {
     "data": {
      "image/png": "[encoded data removed]",
      "text/plain": [
       "<Figure size 432x288 with 1 Axes>"
      ]
     },
     "metadata": {},
     "output_type": "display_data"
    }
   ],
   "source": [
    "fig = plt.figure()\n",
    "sns.distplot(before, bins=25)\n",
    "sns.distplot(after, bins=25)\n",
    "plt.show()"
   ]
  },
  {
   "cell_type": "markdown",
   "metadata": {},
   "source": [
    "## Check the assumptions of the t-test. The assumptions are:\n",
    "    - Both samples are normally distributed\n",
    "    - Samples are independent"
   ]
  },
  {
   "cell_type": "markdown",
   "metadata": {},
   "source": [
    "### Visual check for normality: Q-Q plot\n",
    "\n",
    "We expect a straight line through the origin if the data is normally distributed."
   ]
  },
  {
   "cell_type": "code",
   "execution_count": 9,
   "metadata": {},
   "outputs": [
    {
     "data": {
      "image/png": "[encoded data removed]",
      "text/plain": [
       "<matplotlib.figure.Figure at 0x7f4620f38cf8>"
      ]
     },
     "metadata": {},
     "output_type": "display_data"
    }
   ],
   "source": [
    "import scipy.stats as stats\n",
    "\n",
    "Z_before = (before - np.mean(before))/np.std(before)\n",
    "\n",
    "stats.probplot(Z_before, dist='norm', plot=plt)\n",
    "\n",
    "plt.title(\"Normal Q-Q plot: Before rehab\")\n",
    "plt.show()"
   ]
  },
  {
   "cell_type": "code",
   "execution_count": 10,
   "metadata": {},
   "outputs": [
    {
     "data": {
      "image/png": "[encoded data removed]",
      "text/plain": [
       "<matplotlib.figure.Figure at 0x7f46208e46d8>"
      ]
     },
     "metadata": {},
     "output_type": "display_data"
    }
   ],
   "source": [
    "Z_after = (after - np.mean(after))/np.std(after)\n",
    "\n",
    "stats.probplot(Z_after, dist='norm', plot=plt)\n",
    "\n",
    "plt.title(\"Normal Q-Q plot: After rehab\")\n",
    "plt.show()"
   ]
  },
  {
   "cell_type": "markdown",
   "metadata": {},
   "source": [
    "Notice that the Q-Q plot before the rehab is slightly more normally distributed than after rehab. It seems that the assumption that the data is normally distributed is quite strict - especially for the BS scores of patients after rehab. A similar result is seen from the histograms of the two groups. Next, we perform a formal test for normality (goodness-of-fit test) to see if each group is normally distributed. A well-known test is the Lilliefors test (Kolmogorov Smirnov test). Basically, if $X$ is the random variable with distribution $F$, we test the null hypothesis: $H_{0}: F \\tilde{} N(\\mu ; \\Sigma) $"
   ]
  },
  {
   "cell_type": "markdown",
   "metadata": {},
   "source": [
    "#### Test for normality for before"
   ]
  },
  {
   "cell_type": "code",
   "execution_count": 11,
   "metadata": {},
   "outputs": [],
   "source": [
    "D_before,p_before = stats.kstest(before, 'norm')"
   ]
  },
  {
   "cell_type": "code",
   "execution_count": 12,
   "metadata": {},
   "outputs": [
    {
     "name": "stdout",
     "output_type": "stream",
     "text": [
      "The test statistic is 0.867295288818177\n",
      "The p-value is 0.0\n"
     ]
    }
   ],
   "source": [
    "print('The test statistic is {}'.format(D_before))\n",
    "print('The p-value is {}'.format(p_before))"
   ]
  },
  {
   "cell_type": "markdown",
   "metadata": {},
   "source": [
    "#### Test for normality after"
   ]
  },
  {
   "cell_type": "code",
   "execution_count": 15,
   "metadata": {},
   "outputs": [],
   "source": [
    "D_after,p_after = stats.kstest(after, 'norm')"
   ]
  },
  {
   "cell_type": "code",
   "execution_count": 16,
   "metadata": {},
   "outputs": [
    {
     "name": "stdout",
     "output_type": "stream",
     "text": [
      "The test statistic is 0.7309316524545406\n",
      "The p-value is 0.0\n"
     ]
    }
   ],
   "source": [
    "print('The test statistic is {}'.format(D_after))\n",
    "print('The p-value is {}'.format(p_after))"
   ]
  },
  {
   "cell_type": "markdown",
   "metadata": {},
   "source": [
    "It is seen that both tests result in a p-value of zero. Hence, there is sufficient evidence to conclude that the data is not normally distributed. The dependence in the data is now investigated next"
   ]
  },
  {
   "cell_type": "markdown",
   "metadata": {},
   "source": [
    "### Checking the dependence in the data\n",
    "\n",
    "In order to see if the data is dependent we consider the coefficient of correlation between the two groups. "
   ]
  },
  {
   "cell_type": "code",
   "execution_count": 17,
   "metadata": {},
   "outputs": [],
   "source": [
    "rho, p_rho = stats.pearsonr(before, after)"
   ]
  },
  {
   "cell_type": "code",
   "execution_count": 18,
   "metadata": {},
   "outputs": [
    {
     "name": "stdout",
     "output_type": "stream",
     "text": [
      "The coefficient of correlation is 0.9426747605494512\n",
      "The p-value for the test for zero correlation is 2.4450261282112308e-74\n"
     ]
    }
   ],
   "source": [
    "print('The coefficient of correlation is {}'.format(rho))\n",
    "print('The p-value for the test for zero correlation is {}'.format(p_rho))"
   ]
  },
  {
   "cell_type": "code",
   "execution_count": 19,
   "metadata": {},
   "outputs": [
    {
     "data": {
      "text/plain": [
       "<matplotlib.collections.PathCollection at 0x7f46207e5080>"
      ]
     },
     "execution_count": 19,
     "metadata": {},
     "output_type": "execute_result"
    },
    {
     "data": {
      "image/png": "[encoded data removed]",
      "text/plain": [
       "<matplotlib.figure.Figure at 0x7f4620883048>"
      ]
     },
     "metadata": {},
     "output_type": "display_data"
    }
   ],
   "source": [
    "plt.scatter(before, after, alpha =0.4, s=121, color = 'red')"
   ]
  },
  {
   "cell_type": "markdown",
   "metadata": {},
   "source": [
    "It is seen that the pearson correlation is 0.942 which is extremely high. Furthermore, the test $ H_{0}: \\rho = 0 $ vs $H_{a}: \\rho \\neq 0 $ has a p-value of zero. Hence, there is nearly certainty that the scores before and after rehab are correlated. This is wat is expected given that the scores before and after refer to the same person."
   ]
  },
  {
   "cell_type": "markdown",
   "metadata": {},
   "source": [
    "### Paired t-test: Taking into account dependence"
   ]
  },
  {
   "cell_type": "code",
   "execution_count": 20,
   "metadata": {},
   "outputs": [],
   "source": [
    "t_de, p_de = stats.ttest_rel(before, after)"
   ]
  },
  {
   "cell_type": "code",
   "execution_count": 22,
   "metadata": {},
   "outputs": [
    {
     "name": "stdout",
     "output_type": "stream",
     "text": [
      "The test statistics is 18.424353066003054\n",
      "The p-value is 5.625036977722412e-41\n"
     ]
    }
   ],
   "source": [
    "print('The test statistics is {}'.format(t_de))\n",
    "print('The p-value is {}'.format(p_de/2))"
   ]
  },
  {
   "cell_type": "markdown",
   "metadata": {},
   "source": [
    "It is seen that even when the dependence is taken into account the p-value is extremely small. This again indicates that the difference between the BS scores before and after rehab differ significantly. "
   ]
  },
  {
   "cell_type": "markdown",
   "metadata": {},
   "source": [
    "### Non-parametric test: Taking non-normality into account\n",
    "We now perform a non-parametric test to compare the means from the before and after rehab group. This test considers the order statistics of the data. The test is known as the Mann Whitney U test or Wilcoxon rank test. Notice we use the continuity correction. "
   ]
  },
  {
   "cell_type": "code",
   "execution_count": 23,
   "metadata": {},
   "outputs": [],
   "source": [
    "T_mwu, p_mwu = stats.mannwhitneyu(before, after, use_continuity=True, alternative='greater')"
   ]
  },
  {
   "cell_type": "code",
   "execution_count": 25,
   "metadata": {},
   "outputs": [
    {
     "name": "stdout",
     "output_type": "stream",
     "text": [
      "The test statistics is 15104.5\n",
      "The p-value is 1.6213967963023146e-05\n"
     ]
    }
   ],
   "source": [
    "print('The test statistics is {}'.format(T_mwu))\n",
    "print('The p-value is {}'.format(p_mwu))"
   ]
  },
  {
   "cell_type": "markdown",
   "metadata": {},
   "source": [
    "It is again observed that the p-value is extremely small. Hence, all tests indicate that the rehab results in a reduced BS score. Therefore, rehab is an effective treatment for the patients."
   ]
  }
 ],
 "metadata": {
  "kernelspec": {
   "display_name": "Python [default]",
   "language": "python",
   "name": "python3"
  },
  "language_info": {
   "codemirror_mode": {
    "name": "ipython",
    "version": 3
   },
   "file_extension": ".py",
   "mimetype": "text/x-python",
   "name": "python",
   "nbconvert_exporter": "python",
   "pygments_lexer": "ipython3",
   "version": "3.6.3"
  }
 },
 "nbformat": 4,
 "nbformat_minor": 2
}
