{
 "cells": [
  {
   "cell_type": "code",
   "execution_count": 21,
   "metadata": {
    "collapsed": true
   },
   "outputs": [],
   "source": [
    "import pandas as pd\n",
    "import seaborn as sns\n",
    "\n",
    "from matplotlib import pyplot as plt\n",
    "\n",
    "%matplotlib inline"
   ]
  },
  {
   "cell_type": "markdown",
   "metadata": {},
   "source": [
    "## Load the clean BASMI data\n",
    "\n",
    "This dataset is a pivoted version of the BASMI data, and also contains information about which drug the patient was using at the time."
   ]
  },
  {
   "cell_type": "code",
   "execution_count": 78,
   "metadata": {},
   "outputs": [
    {
     "data": {
      "text/html": [
       "<div>\n",
       "<style>\n",
       "    .dataframe thead tr:only-child th {\n",
       "        text-align: right;\n",
       "    }\n",
       "\n",
       "    .dataframe thead th {\n",
       "        text-align: left;\n",
       "    }\n",
       "\n",
       "    .dataframe tbody tr th {\n",
       "        vertical-align: top;\n",
       "    }\n",
       "</style>\n",
       "<table border=\"1\" class=\"dataframe\">\n",
       "  <thead>\n",
       "    <tr style=\"text-align: right;\">\n",
       "      <th></th>\n",
       "      <th></th>\n",
       "      <th>CRS</th>\n",
       "      <th>TWS</th>\n",
       "      <th>LSFS</th>\n",
       "      <th>LFS</th>\n",
       "      <th>IMS</th>\n",
       "      <th>BS</th>\n",
       "      <th>Drug</th>\n",
       "    </tr>\n",
       "    <tr>\n",
       "      <th>patient_id</th>\n",
       "      <th>Date</th>\n",
       "      <th></th>\n",
       "      <th></th>\n",
       "      <th></th>\n",
       "      <th></th>\n",
       "      <th></th>\n",
       "      <th></th>\n",
       "      <th></th>\n",
       "    </tr>\n",
       "  </thead>\n",
       "  <tbody>\n",
       "    <tr>\n",
       "      <th rowspan=\"5\" valign=\"top\">40</th>\n",
       "      <th>1995-05-09</th>\n",
       "      <td>3</td>\n",
       "      <td>1</td>\n",
       "      <td>6</td>\n",
       "      <td>5</td>\n",
       "      <td>3</td>\n",
       "      <td>3.6</td>\n",
       "      <td>NaN</td>\n",
       "    </tr>\n",
       "    <tr>\n",
       "      <th>1995-06-01</th>\n",
       "      <td>3</td>\n",
       "      <td>1</td>\n",
       "      <td>8</td>\n",
       "      <td>5</td>\n",
       "      <td>3</td>\n",
       "      <td>4.0</td>\n",
       "      <td>NaN</td>\n",
       "    </tr>\n",
       "    <tr>\n",
       "      <th>1995-06-12</th>\n",
       "      <td>2</td>\n",
       "      <td>1</td>\n",
       "      <td>5</td>\n",
       "      <td>3</td>\n",
       "      <td>2</td>\n",
       "      <td>2.6</td>\n",
       "      <td>NaN</td>\n",
       "    </tr>\n",
       "    <tr>\n",
       "      <th>1995-11-02</th>\n",
       "      <td>1</td>\n",
       "      <td>1</td>\n",
       "      <td>3</td>\n",
       "      <td>4</td>\n",
       "      <td>2</td>\n",
       "      <td>2.2</td>\n",
       "      <td>NaN</td>\n",
       "    </tr>\n",
       "    <tr>\n",
       "      <th>1996-05-02</th>\n",
       "      <td>2</td>\n",
       "      <td>1</td>\n",
       "      <td>4</td>\n",
       "      <td>3</td>\n",
       "      <td>2</td>\n",
       "      <td>2.4</td>\n",
       "      <td>NaN</td>\n",
       "    </tr>\n",
       "  </tbody>\n",
       "</table>\n",
       "</div>"
      ],
      "text/plain": [
       "                       CRS  TWS  LSFS  LFS  IMS   BS Drug\n",
       "patient_id Date                                          \n",
       "40         1995-05-09    3    1     6    5    3  3.6  NaN\n",
       "           1995-06-01    3    1     8    5    3  4.0  NaN\n",
       "           1995-06-12    2    1     5    3    2  2.6  NaN\n",
       "           1995-11-02    1    1     3    4    2  2.2  NaN\n",
       "           1996-05-02    2    1     4    3    2  2.4  NaN"
      ]
     },
     "execution_count": 78,
     "metadata": {},
     "output_type": "execute_result"
    }
   ],
   "source": [
    "basmi_df = pd.read_excel('data/clean_basmi.xls', index_col=(0,1))\n",
    "basmi_df.head()"
   ]
  },
  {
   "cell_type": "code",
   "execution_count": 12,
   "metadata": {},
   "outputs": [
    {
     "data": {
      "text/html": [
       "<div>\n",
       "<style>\n",
       "    .dataframe thead tr:only-child th {\n",
       "        text-align: right;\n",
       "    }\n",
       "\n",
       "    .dataframe thead th {\n",
       "        text-align: left;\n",
       "    }\n",
       "\n",
       "    .dataframe tbody tr th {\n",
       "        vertical-align: top;\n",
       "    }\n",
       "</style>\n",
       "<table border=\"1\" class=\"dataframe\">\n",
       "  <thead>\n",
       "    <tr style=\"text-align: right;\">\n",
       "      <th></th>\n",
       "      <th>patient_id</th>\n",
       "      <th>patient_gender_id</th>\n",
       "      <th>patient_date_of_diagnosis</th>\n",
       "      <th>Age at diagnosis</th>\n",
       "      <th>patient_hla_bUnknown7_id</th>\n",
       "      <th>EIBP</th>\n",
       "      <th>patient_condition_subtype</th>\n",
       "      <th>Current biologic</th>\n",
       "      <th>Number of biologics used (not including brand/biosimilar switch)</th>\n",
       "      <th>year of Birth</th>\n",
       "    </tr>\n",
       "  </thead>\n",
       "  <tbody>\n",
       "    <tr>\n",
       "      <th>0</th>\n",
       "      <td>40</td>\n",
       "      <td>Female</td>\n",
       "      <td>1994-01-01</td>\n",
       "      <td>46.255989</td>\n",
       "      <td>Positive</td>\n",
       "      <td>False</td>\n",
       "      <td>AS</td>\n",
       "      <td>Infliximab</td>\n",
       "      <td>1</td>\n",
       "      <td>1947</td>\n",
       "    </tr>\n",
       "    <tr>\n",
       "      <th>1</th>\n",
       "      <td>41</td>\n",
       "      <td>Male</td>\n",
       "      <td>2003-01-01</td>\n",
       "      <td>46.644764</td>\n",
       "      <td>Positive</td>\n",
       "      <td>False</td>\n",
       "      <td>AS</td>\n",
       "      <td>Adalimumab</td>\n",
       "      <td>1</td>\n",
       "      <td>1956</td>\n",
       "    </tr>\n",
       "    <tr>\n",
       "      <th>2</th>\n",
       "      <td>43</td>\n",
       "      <td>Male</td>\n",
       "      <td>1978-01-01</td>\n",
       "      <td>20.410678</td>\n",
       "      <td>Positive</td>\n",
       "      <td>False</td>\n",
       "      <td>AS</td>\n",
       "      <td>Adalimumab</td>\n",
       "      <td>1</td>\n",
       "      <td>1957</td>\n",
       "    </tr>\n",
       "    <tr>\n",
       "      <th>3</th>\n",
       "      <td>44</td>\n",
       "      <td>Male</td>\n",
       "      <td>1994-01-01</td>\n",
       "      <td>22.047912</td>\n",
       "      <td>Unknown</td>\n",
       "      <td>False</td>\n",
       "      <td>AS</td>\n",
       "      <td>Adalimumab</td>\n",
       "      <td>1</td>\n",
       "      <td>1971</td>\n",
       "    </tr>\n",
       "    <tr>\n",
       "      <th>4</th>\n",
       "      <td>45</td>\n",
       "      <td>Male</td>\n",
       "      <td>1998-01-01</td>\n",
       "      <td>37.048597</td>\n",
       "      <td>Positive</td>\n",
       "      <td>False</td>\n",
       "      <td>AS</td>\n",
       "      <td>Etanercept</td>\n",
       "      <td>1</td>\n",
       "      <td>1960</td>\n",
       "    </tr>\n",
       "  </tbody>\n",
       "</table>\n",
       "</div>"
      ],
      "text/plain": [
       "   patient_id patient_gender_id patient_date_of_diagnosis  Age at diagnosis  \\\n",
       "0          40            Female                1994-01-01         46.255989   \n",
       "1          41              Male                2003-01-01         46.644764   \n",
       "2          43              Male                1978-01-01         20.410678   \n",
       "3          44              Male                1994-01-01         22.047912   \n",
       "4          45              Male                1998-01-01         37.048597   \n",
       "\n",
       "  patient_hla_bUnknown7_id   EIBP patient_condition_subtype Current biologic  \\\n",
       "0                 Positive  False                        AS       Infliximab   \n",
       "1                 Positive  False                        AS       Adalimumab   \n",
       "2                 Positive  False                        AS       Adalimumab   \n",
       "3                  Unknown  False                        AS       Adalimumab   \n",
       "4                 Positive  False                        AS       Etanercept   \n",
       "\n",
       "  Number of biologics used (not including brand/biosimilar switch)  \\\n",
       "0                                                  1                 \n",
       "1                                                  1                 \n",
       "2                                                  1                 \n",
       "3                                                  1                 \n",
       "4                                                  1                 \n",
       "\n",
       "   year of Birth  \n",
       "0           1947  \n",
       "1           1956  \n",
       "2           1957  \n",
       "3           1971  \n",
       "4           1960  "
      ]
     },
     "execution_count": 12,
     "metadata": {},
     "output_type": "execute_result"
    }
   ],
   "source": [
    "# Demographics DataFrame\n",
    "demo_df = pd.read_excel('data/demographics and Biologics data.xlsx')\n",
    "demo_df.head()"
   ]
  },
  {
   "cell_type": "code",
   "execution_count": 13,
   "metadata": {},
   "outputs": [
    {
     "name": "stdout",
     "output_type": "stream",
     "text": [
      "<class 'pandas.core.frame.DataFrame'>\n",
      "RangeIndex: 721 entries, 0 to 720\n",
      "Data columns (total 10 columns):\n",
      "patient_id                                                          721 non-null int64\n",
      "patient_gender_id                                                   721 non-null object\n",
      "patient_date_of_diagnosis                                           682 non-null datetime64[ns]\n",
      "Age at diagnosis                                                    680 non-null float64\n",
      "patient_hla_bUnknown7_id                                            721 non-null object\n",
      "EIBP                                                                721 non-null bool\n",
      "patient_condition_subtype                                           721 non-null object\n",
      "Current biologic                                                    721 non-null object\n",
      "Number of biologics used (not including brand/biosimilar switch)    720 non-null object\n",
      "year of Birth                                                       721 non-null int64\n",
      "dtypes: bool(1), datetime64[ns](1), float64(1), int64(2), object(5)\n",
      "memory usage: 51.5+ KB\n"
     ]
    }
   ],
   "source": [
    "demo_df.info()"
   ]
  },
  {
   "cell_type": "markdown",
   "metadata": {},
   "source": [
    "### Deal with missing values\n",
    "\n",
    "So, we see that the dataset has some missing values...Lets remove all rows with any missing values from the dataset.."
   ]
  },
  {
   "cell_type": "code",
   "execution_count": 18,
   "metadata": {},
   "outputs": [
    {
     "name": "stdout",
     "output_type": "stream",
     "text": [
      "<class 'pandas.core.frame.DataFrame'>\n",
      "Int64Index: 679 entries, 0 to 720\n",
      "Data columns (total 10 columns):\n",
      "patient_id                                                          679 non-null int64\n",
      "patient_gender_id                                                   679 non-null object\n",
      "patient_date_of_diagnosis                                           679 non-null datetime64[ns]\n",
      "Age at diagnosis                                                    679 non-null float64\n",
      "patient_hla_bUnknown7_id                                            679 non-null object\n",
      "EIBP                                                                679 non-null bool\n",
      "patient_condition_subtype                                           679 non-null object\n",
      "Current biologic                                                    679 non-null object\n",
      "Number of biologics used (not including brand/biosimilar switch)    679 non-null object\n",
      "year of Birth                                                       679 non-null int64\n",
      "dtypes: bool(1), datetime64[ns](1), float64(1), int64(2), object(5)\n",
      "memory usage: 53.7+ KB\n"
     ]
    }
   ],
   "source": [
    "demo_df.dropna(how='any',inplace=True)\n",
    "demo_df.info()"
   ]
  },
  {
   "cell_type": "markdown",
   "metadata": {},
   "source": [
    "### Descriptive Stats\n",
    "\n",
    "Now, lets look at some descriptive statistics.\n",
    "\n",
    "#### Age distribution\n",
    "\n",
    "First, lets take a look at the age distribution. Because age naturally changes over time, we will use the age at first diagnosis - ie the age at which the patient entered the study. "
   ]
  },
  {
   "cell_type": "code",
   "execution_count": 32,
   "metadata": {},
   "outputs": [
    {
     "data": {
      "image/png": "[encoded data removed]",
      "text/plain": [
       "<matplotlib.figure.Figure at 0x1a087a7160>"
      ]
     },
     "metadata": {},
     "output_type": "display_data"
    }
   ],
   "source": [
    "age_at_entry = demo_df['Age at diagnosis'].values\n",
    "\n",
    "ax = sns.distplot(age_at_entry)\n",
    "title = ax.set_title('Age Distribution')\n",
    "xlabel = ax.set_xlabel('Age')\n",
    "ylabel = ax.set_ylabel('Prob')"
   ]
  },
  {
   "cell_type": "markdown",
   "metadata": {},
   "source": [
    "#### Gender\n",
    "\n",
    "Lets look at the gender distribution and also some basic stats on the BASMI score for each gender group"
   ]
  },
  {
   "cell_type": "code",
   "execution_count": 41,
   "metadata": {},
   "outputs": [
    {
     "data": {
      "image/png": "[encoded data removed]",
      "text/plain": [
       "<matplotlib.figure.Figure at 0x1a11c812e8>"
      ]
     },
     "metadata": {},
     "output_type": "display_data"
    }
   ],
   "source": [
    "genders = demo_df['patient_gender_id']\n",
    "\n",
    "# First plot the distribution\n",
    "fig = plt.figure()\n",
    "plt.hist(genders)\n",
    "plt.title('Age distribution')\n",
    "plt.xlabel('Gender')\n",
    "plt.ylabel('Count')\n",
    "plt.show()"
   ]
  },
  {
   "cell_type": "code",
   "execution_count": 88,
   "metadata": {},
   "outputs": [
    {
     "name": "stdout",
     "output_type": "stream",
     "text": [
      "Male BS Score Information:\n",
      "\n",
      "               BS\n",
      "count  521.000000\n",
      "mean     3.711261\n",
      "std      2.008204\n",
      "min      0.155556\n",
      "25%      2.010256\n",
      "50%      3.652941\n",
      "75%      5.288889\n",
      "max      8.122581\n",
      "\n",
      "\n",
      "Female BS Score Information:\n",
      "\n",
      "               BS\n",
      "count  142.000000\n",
      "mean     2.874123\n",
      "std      1.760230\n",
      "min      0.400000\n",
      "25%      1.417500\n",
      "50%      2.524286\n",
      "75%      4.152690\n",
      "max      8.000000\n"
     ]
    }
   ],
   "source": [
    "# Get some stats about male and female patients\n",
    "male_ids = demo_df[genders == 'Male']['patient_id']\n",
    "female_ids = demo_df[genders == 'Female']['patient_id']\n",
    "\n",
    "idx = pd.IndexSlice\n",
    "\n",
    "# Most probably not the best way to do this, but whatever\n",
    "male_basmi_df = basmi_df.reset_index().set_index('patient_id').loc[male_ids]\n",
    "female_basmi_df = basmi_df.reset_index().set_index('patient_id').loc[female_ids]\n",
    "\n",
    "# Get the average BS score for each male patient\n",
    "# TODO - Check the averaging method with LUCA\n",
    "avg_male_bs_df = male_basmi_df.groupby(male_basmi_df.index).agg({'BS': 'mean'})\n",
    "avg_female_bs_df = female_basmi_df.groupby(female_basmi_df.index).agg({'BS': 'mean'})\n",
    "\n",
    "# Now get the average BS score over all male and female patients\n",
    "print('Male BS Score Information:\\n')\n",
    "print(avg_male_bs_df.describe())\n",
    "\n",
    "print('\\n\\nFemale BS Score Information:\\n')\n",
    "print(avg_female_bs_df.describe())"
   ]
  },
  {
   "cell_type": "code",
   "execution_count": null,
   "metadata": {
    "collapsed": true
   },
   "outputs": [],
   "source": []
  }
 ],
 "metadata": {
  "kernelspec": {
   "display_name": "Python 3",
   "language": "python",
   "name": "python3"
  },
  "language_info": {
   "codemirror_mode": {
    "name": "ipython",
    "version": 3
   },
   "file_extension": ".py",
   "mimetype": "text/x-python",
   "name": "python",
   "nbconvert_exporter": "python",
   "pygments_lexer": "ipython3",
   "version": "3.6.3"
  }
 },
 "nbformat": 4,
 "nbformat_minor": 2
}
